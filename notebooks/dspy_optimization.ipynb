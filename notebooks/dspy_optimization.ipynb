{
 "cells": [
  {
   "cell_type": "markdown",
   "id": "3e01250a",
   "metadata": {},
   "source": [
    "# DSPy Optimization for ANEETAA Agents\n",
    "\n",
    "This notebook demonstrates how to optimize ANEETAA agents using DSPy's SIMBA optimizer.\n",
    "\n",
    "## Workflow:\n",
    "1. Prepare training data from NEET materials\n",
    "2. Define DSPy signatures and modules\n",
    "3. Run SIMBA optimizer\n",
    "4. Evaluate optimized agents\n",
    "5. Log to MLflow\n",
    "6. Deploy optimized models"
   ]
  },
  {
   "cell_type": "code",
   "execution_count": null,
   "id": "fc12f8d4",
   "metadata": {},
   "outputs": [],
   "source": [
    "# Install dependencies if needed\n",
    "# %pip install \"dspy>=3.0.3\" \"mlflow>=3.4.0\" datasets pandas numpy"
   ]
  },
  {
   "cell_type": "code",
   "execution_count": null,
   "id": "fa2408d1",
   "metadata": {},
   "outputs": [],
   "source": [
    "import os\n",
    "import sys\n",
    "import json\n",
    "import dspy\n",
    "import mlflow\n",
    "import pandas as pd\n",
    "import numpy as np\n",
    "from pathlib import Path\n",
    "\n",
    "# Add src to path\n",
    "sys.path.insert(0, str(Path.cwd().parent / 'src'))\n",
    "\n",
    "print(\"✓ Imports successful\")"
   ]
  },
  {
   "cell_type": "markdown",
   "id": "cb437447",
   "metadata": {},
   "source": [
    "## 1. Setup DSPy and MLflow"
   ]
  },
  {
   "cell_type": "code",
   "execution_count": null,
   "id": "fd72685f",
   "metadata": {},
   "outputs": [],
   "source": [
    "# Configure DSPy with your LLM\n",
    "import getpass\n",
    "\n",
    "# For OpenAI (recommended for optimization)\n",
    "api_key = getpass.getpass(\"Enter your OpenAI API key: \")\n",
    "os.environ['OPENAI_API_KEY'] = api_key\n",
    "\n",
    "lm = dspy.LM(\n",
    "    model=\"openai/gpt-4o-mini\",\n",
    "    max_tokens=500,\n",
    "    temperature=0.1\n",
    ")\n",
    "dspy.settings.configure(lm=lm)\n",
    "\n",
    "print(\"✓ DSPy configured with\", lm.model)"
   ]
  },
  {
   "cell_type": "code",
   "execution_count": null,
   "id": "c6fd7475",
   "metadata": {},
   "outputs": [],
   "source": [
    "# Setup MLflow\n",
    "mlflow.set_tracking_uri(\"http://localhost:5000\")\n",
    "mlflow.set_experiment(\"aneeta-dspy-optimization\")\n",
    "mlflow.dspy.autolog()\n",
    "\n",
    "print(\"✓ MLflow configured\")\n",
    "print(f\"  Tracking URI: {mlflow.get_tracking_uri()}\")\n",
    "print(f\"  Experiment: {mlflow.get_experiment_by_name('aneeta-dspy-optimization').name}\")"
   ]
  },
  {
   "cell_type": "markdown",
   "id": "04aec795",
   "metadata": {},
   "source": [
    "## 2. Load Training Data"
   ]
  },
  {
   "cell_type": "code",
   "execution_count": null,
   "id": "323a9767",
   "metadata": {},
   "outputs": [],
   "source": [
    "def load_neet_training_data():\n",
    "    \"\"\"Load training data from processed NEET materials.\"\"\"\n",
    "    data_dir = Path.cwd().parent / 'Processed Data'\n",
    "    \n",
    "    # Load biology chunks\n",
    "    bio_path = data_dir / 'processed_biology_chunks.json'\n",
    "    chem_path = data_dir / 'processed_chemistry_chunks.json'\n",
    "    physics_path = data_dir / 'processed_physics_chunks.json'\n",
    "    \n",
    "    examples = []\n",
    "    \n",
    "    for path, subject in [(bio_path, 'biology'), (chem_path, 'chemistry'), (physics_path, 'physics')]:\n",
    "        if path.exists():\n",
    "            with open(path, 'r', encoding='utf-8') as f:\n",
    "                chunks = json.load(f)\n",
    "                \n",
    "            # Convert chunks to Q&A format (simple heuristic)\n",
    "            for chunk in chunks[:20]:  # Limit for demo\n",
    "                content = chunk.get('page_content', '')\n",
    "                if len(content) > 100:\n",
    "                    # Create a question from the first sentence\n",
    "                    sentences = content.split('.')\n",
    "                    if len(sentences) >= 2:\n",
    "                        question = f\"Explain: {sentences[0].strip()}\"\n",
    "                        answer = content\n",
    "                        \n",
    "                        examples.append(dspy.Example(\n",
    "                            question=question,\n",
    "                            context=content,\n",
    "                            answer=answer[:500],\n",
    "                            subject=subject\n",
    "                        ).with_inputs('question', 'context'))\n",
    "    \n",
    "    print(f\"✓ Loaded {len(examples)} training examples\")\n",
    "    return examples\n",
    "\n",
    "# Load data\n",
    "training_data = load_neet_training_data()\n",
    "\n",
    "# Split into train/test\n",
    "from sklearn.model_selection import train_test_split\n",
    "trainset, testset = train_test_split(training_data, test_size=0.2, random_state=42)\n",
    "\n",
    "print(f\"Train: {len(trainset)} | Test: {len(testset)}\")"
   ]
  },
  {
   "cell_type": "code",
   "execution_count": null,
   "id": "a18b5e71",
   "metadata": {},
   "outputs": [],
   "source": [
    "# Inspect a training example\n",
    "print(\"Example training data:\")\n",
    "print(trainset[0])"
   ]
  },
  {
   "cell_type": "markdown",
   "id": "7c3e03b5",
   "metadata": {},
   "source": [
    "## 3. Define DSPy Modules"
   ]
  },
  {
   "cell_type": "code",
   "execution_count": null,
   "id": "93ef817e",
   "metadata": {},
   "outputs": [],
   "source": [
    "# Import from our DSPy agents module\n",
    "from aneeta.nodes.agents_dspy import (\n",
    "    TeacherSignature,\n",
    "    TeacherAgentDSPy,\n",
    "    MCQSolverSignature,\n",
    "    MCQSolverAgentDSPy\n",
    ")\n",
    "\n",
    "# Initialize agents\n",
    "teacher_agent = TeacherAgentDSPy()\n",
    "mcq_solver = MCQSolverAgentDSPy()\n",
    "\n",
    "print(\"✓ DSPy agents initialized\")"
   ]
  },
  {
   "cell_type": "markdown",
   "id": "0e6ebdfb",
   "metadata": {},
   "source": [
    "## 4. Define Evaluation Metrics"
   ]
  },
  {
   "cell_type": "code",
   "execution_count": null,
   "id": "bf1fc9b9",
   "metadata": {},
   "outputs": [],
   "source": [
    "def validate_explanation(example, prediction, trace=None):\n",
    "    \"\"\"Validate if explanation is good quality.\"\"\"\n",
    "    # Simple check: response should be longer than question\n",
    "    response = prediction.response if hasattr(prediction, 'response') else str(prediction)\n",
    "    \n",
    "    if len(response) < 50:\n",
    "        return 0.0\n",
    "    \n",
    "    # Check if it contains key terms from context\n",
    "    context_words = set(example.context.lower().split())\n",
    "    response_words = set(response.lower().split())\n",
    "    overlap = len(context_words & response_words) / len(context_words) if context_words else 0\n",
    "    \n",
    "    return overlap > 0.1\n",
    "\n",
    "print(\"✓ Metrics defined\")"
   ]
  },
  {
   "cell_type": "markdown",
   "id": "d7b2b3ef",
   "metadata": {},
   "source": [
    "## 5. Optimize Teacher Agent with SIMBA"
   ]
  },
  {
   "cell_type": "code",
   "execution_count": null,
   "id": "6b639140",
   "metadata": {},
   "outputs": [],
   "source": [
    "from dspy import SIMBA\n",
    "\n",
    "# Configure optimizer\n",
    "optimizer = SIMBA(\n",
    "    metric=validate_explanation,\n",
    "    max_demos=3,        # Number of demonstrations to bootstrap\n",
    "    bsize=12,           # Batch size for evaluation\n",
    "    num_threads=1       # Number of parallel threads\n",
    ")\n",
    "\n",
    "print(\"✓ SIMBA optimizer configured\")\n",
    "print(\"Starting optimization... (this may take a few minutes)\")"
   ]
  },
  {
   "cell_type": "code",
   "execution_count": null,
   "id": "73d63ab8",
   "metadata": {},
   "outputs": [],
   "source": [
    "# Run optimization\n",
    "with mlflow.start_run(run_name=\"teacher_agent_optimization\"):\n",
    "    optimized_teacher = optimizer.compile(\n",
    "        teacher_agent,\n",
    "        trainset=trainset[:30],  # Use subset for faster optimization\n",
    "    )\n",
    "    \n",
    "    print(\"✓ Optimization complete!\")"
   ]
  },
  {
   "cell_type": "markdown",
   "id": "a2fecb74",
   "metadata": {},
   "source": [
    "## 6. Evaluate Performance"
   ]
  },
  {
   "cell_type": "code",
   "execution_count": null,
   "id": "c19f4ffb",
   "metadata": {},
   "outputs": [],
   "source": [
    "def evaluate_agent(agent, testset, name=\"Agent\"):\n",
    "    \"\"\"Evaluate agent on test set.\"\"\"\n",
    "    scores = []\n",
    "    \n",
    "    for example in testset[:10]:  # Limit for demo\n",
    "        try:\n",
    "            prediction = agent(\n",
    "                question=example.question,\n",
    "                context=example.context,\n",
    "                language=\"English\"\n",
    "            )\n",
    "            score = validate_explanation(example, prediction)\n",
    "            scores.append(score)\n",
    "        except Exception as e:\n",
    "            print(f\"Error: {e}\")\n",
    "            scores.append(0)\n",
    "    \n",
    "    avg_score = np.mean(scores)\n",
    "    print(f\"{name} - Average Score: {avg_score:.2%}\")\n",
    "    return avg_score\n",
    "\n",
    "# Evaluate baseline vs optimized\n",
    "baseline_score = evaluate_agent(TeacherAgentDSPy(), testset, \"Baseline\")\n",
    "optimized_score = evaluate_agent(optimized_teacher, testset, \"Optimized\")\n",
    "\n",
    "improvement = ((optimized_score - baseline_score) / baseline_score * 100) if baseline_score > 0 else 0\n",
    "print(f\"\\n🎉 Improvement: {improvement:.1f}%\")"
   ]
  },
  {
   "cell_type": "markdown",
   "id": "3e3f2c64",
   "metadata": {},
   "source": [
    "## 7. Inspect Optimized Prompts"
   ]
  },
  {
   "cell_type": "code",
   "execution_count": null,
   "id": "429b0b97",
   "metadata": {},
   "outputs": [],
   "source": [
    "# Test the optimized agent\n",
    "test_question = \"Explain the process of photosynthesis\"\n",
    "test_context = \"Photosynthesis is the process by which green plants use sunlight to synthesize foods from carbon dioxide and water.\"\n",
    "\n",
    "result = optimized_teacher(\n",
    "    question=test_question,\n",
    "    context=test_context,\n",
    "    language=\"Tamil\"\n",
    ")\n",
    "\n",
    "print(\"Question:\", test_question)\n",
    "print(\"\\nResponse:\")\n",
    "print(result.response)"
   ]
  },
  {
   "cell_type": "markdown",
   "id": "984b9857",
   "metadata": {},
   "source": [
    "## 8. Log to MLflow Model Registry"
   ]
  },
  {
   "cell_type": "code",
   "execution_count": null,
   "id": "0c8026b1",
   "metadata": {},
   "outputs": [],
   "source": [
    "with mlflow.start_run(run_name=\"teacher_agent_v1\"):\n",
    "    # Log model\n",
    "    model_info = mlflow.dspy.log_model(\n",
    "        optimized_teacher,\n",
    "        artifact_path=\"teacher_agent\",\n",
    "        input_example=\"What is mitosis?\"\n",
    "    )\n",
    "    \n",
    "    # Log metrics\n",
    "    mlflow.log_metric(\"baseline_score\", baseline_score)\n",
    "    mlflow.log_metric(\"optimized_score\", optimized_score)\n",
    "    mlflow.log_metric(\"improvement_percent\", improvement)\n",
    "    \n",
    "    # Log parameters\n",
    "    mlflow.log_param(\"optimizer\", \"SIMBA\")\n",
    "    mlflow.log_param(\"max_demos\", 3)\n",
    "    mlflow.log_param(\"training_size\", len(trainset))\n",
    "    \n",
    "    print(\"✓ Model logged to MLflow\")\n",
    "    print(f\"  Model URI: {model_info.model_uri}\")"
   ]
  },
  {
   "cell_type": "markdown",
   "id": "2fe6e5d4",
   "metadata": {},
   "source": [
    "## 9. Register Model for Production"
   ]
  },
  {
   "cell_type": "code",
   "execution_count": null,
   "id": "65f56c5b",
   "metadata": {},
   "outputs": [],
   "source": [
    "# Register model\n",
    "model_name = \"teacher-agent-dspy\"\n",
    "\n",
    "model_version = mlflow.register_model(\n",
    "    model_uri=model_info.model_uri,\n",
    "    name=model_name\n",
    ")\n",
    "\n",
    "print(f\"✓ Registered model: {model_name}\")\n",
    "print(f\"  Version: {model_version.version}\")"
   ]
  },
  {
   "cell_type": "code",
   "execution_count": null,
   "id": "1859da34",
   "metadata": {},
   "outputs": [],
   "source": [
    "# Transition to production\n",
    "client = mlflow.tracking.MlflowClient()\n",
    "client.transition_model_version_stage(\n",
    "    name=model_name,\n",
    "    version=model_version.version,\n",
    "    stage=\"Production\"\n",
    ")\n",
    "\n",
    "print(f\"✓ Model transitioned to Production stage\")"
   ]
  },
  {
   "cell_type": "markdown",
   "id": "3c268117",
   "metadata": {},
   "source": [
    "## 10. Load and Test Production Model"
   ]
  },
  {
   "cell_type": "code",
   "execution_count": null,
   "id": "4e4436c6",
   "metadata": {},
   "outputs": [],
   "source": [
    "# Load production model\n",
    "production_model_uri = f\"models:/{model_name}/production\"\n",
    "production_agent = mlflow.dspy.load_model(production_model_uri)\n",
    "\n",
    "# Test it\n",
    "test_result = production_agent(\n",
    "    question=\"What is DNA replication?\",\n",
    "    context=\"DNA replication is the process of producing two identical replicas from one original DNA molecule.\",\n",
    "    language=\"Hindi\"\n",
    ")\n",
    "\n",
    "print(\"Production Model Response:\")\n",
    "print(test_result.response)"
   ]
  },
  {
   "cell_type": "markdown",
   "id": "ce09560b",
   "metadata": {},
   "source": [
    "## Next Steps\n",
    "\n",
    "1. **Optimize other agents**: MCQ Solver, Mentor, Quiz Generator\n",
    "2. **Expand training data**: Use more NEET materials\n",
    "3. **Try other optimizers**: MIPROv2, BootstrapFewShot\n",
    "4. **Fine-tune models**: Use BootstrapFinetune for Gemma\n",
    "5. **Deploy to production**: Update app.py to load from MLflow\n",
    "\n",
    "See `DSPy_Integration_Guide.md` for detailed instructions!"
   ]
  }
 ],
 "metadata": {
  "language_info": {
   "name": "python"
  }
 },
 "nbformat": 4,
 "nbformat_minor": 5
}
